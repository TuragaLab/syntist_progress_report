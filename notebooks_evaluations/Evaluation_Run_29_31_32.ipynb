{
 "cells": [
  {
   "cell_type": "code",
   "execution_count": 1,
   "metadata": {
    "collapsed": false
   },
   "outputs": [
    {
     "name": "stdout",
     "output_type": "stream",
     "text": [
      "Populating the interactive namespace from numpy and matplotlib\n"
     ]
    }
   ],
   "source": [
    "%pylab inline\n",
    "import os\n",
    "import sys\n",
    "sys.path.insert(0, os.getenv(\"HOME\") + '/src/syntist')\n",
    "from utils import ImagePlotter\n",
    "from flyem_syn_eval import eval as flyem_eval\n",
    "\n",
    "IP = ImagePlotter()"
   ]
  },
  {
   "cell_type": "raw",
   "metadata": {},
   "source": [
    "RUN 29, CX, iteration = 400'000\n",
    "key aspects: check if OVERFITTING possible, with reweighting, higher learning rate(le=1e-6), smaller network as before (fmap=24/1) \n",
    "Training settings:\n",
    "    SOLVER:\n",
    "        learning rate = 1e-6\n",
    "    NETWORK:\n",
    "        features maps to start: 24 / 1\n",
    "        depth: 3\n",
    "    DATA:\n",
    "        trained on cx1_2_small\n",
    "    LOSS:\n",
    "        euclid\n",
    "    REMARKS:\n",
    "        - ExclusiveZone around landmarks\n",
    "        - reweighting"
   ]
  },
  {
   "cell_type": "raw",
   "metadata": {},
   "source": [
    "RUN 31, CX, iteration = 270'000\n",
    "key aspects: check if overfitting possible, with reweighting; higher learning rate(le=1e-6); less smaller, more detailed network as before (fmap=24/2) \n",
    "Training settings:\n",
    "    SOLVER:\n",
    "        learning rate = 1e-6\n",
    "    NETWORK:\n",
    "        features maps to start: 24\n",
    "        factor = 2\n",
    "        depth: 3\n",
    "    DATA:\n",
    "        trained on cx1_2_small\n",
    "    LOSS:\n",
    "        euclid\n",
    "    REMARKS:\n",
    "        - ExclusiveZone around landmarks\n",
    "        - reweighting"
   ]
  },
  {
   "cell_type": "markdown",
   "metadata": {},
   "source": [
    "RUN 32, CX, iteration = 40'000\n",
    "key aspects: check if overfitting possible, with reweighting; higher learning rate(le=1e-6); same network as before (fmap=24/3) \n",
    "Training settings:\n",
    "    SOLVER:\n",
    "        learning rate = 1e-6\n",
    "    NETWORK:\n",
    "        features maps to start: 24\n",
    "        factor = 3\n",
    "        depth: 3\n",
    "    DATA:\n",
    "        trained on cx1_2_small\n",
    "    LOSS:\n",
    "        euclid\n",
    "    REMARKS:\n",
    "        - ExclusiveZone around landmarks\n",
    "        - reweighting"
   ]
  },
  {
   "cell_type": "raw",
   "metadata": {
    "collapsed": false
   },
   "source": [
    "inputfilename = os.getenv(\"HOME\") + '/projects/syntist/processing/20170702/203404/400000/CX_testing_inference400000_part0_full.hdf'\n",
    "IP.visualize_pred_presyn_locations(inputfilename, num_slices=6)"
   ]
  },
  {
   "cell_type": "code",
   "execution_count": 2,
   "metadata": {
    "collapsed": false
   },
   "outputs": [],
   "source": [
    "# run 29\n",
    "cx1_2_small_29_json_filename = os.path.join(os.getenv(\"HOME\")+'/projects/syntist/processing', '20170702', '203404',\n",
    "                             '400000','cx1_2_small_syn_locations_sigma2_minpeakdist10.json')\n",
    "cx1_2_small_29_results = flyem_eval.evaluate_pr(flyem_eval.Tbar_Info(cx1_2_small_29_json_filename),\n",
    "                                                 flyem_eval.cx_synapse_groundtruth('2_small'),\n",
    "                                                 conf_thresholds=np.arange(0.00,0.98,0.02))"
   ]
  },
  {
   "cell_type": "code",
   "execution_count": 3,
   "metadata": {
    "collapsed": false
   },
   "outputs": [],
   "source": [
    "# run 31\n",
    "cx1_2_small_31_json_filename = os.path.join(os.getenv(\"HOME\")+'/projects/syntist/processing', '20170704', '131815',\n",
    "                               '300000','cx1_2_small_syn_locations_sigma2_minpeakdist10.json')\n",
    "cx1_2_small_31_results = flyem_eval.evaluate_pr(flyem_eval.Tbar_Info(cx1_2_small_31_json_filename),\n",
    "                                                 flyem_eval.cx_synapse_groundtruth('2_small'),\n",
    "                                                 conf_thresholds=np.arange(0.00,0.98,0.02))"
   ]
  },
  {
   "cell_type": "code",
   "execution_count": 4,
   "metadata": {
    "collapsed": false
   },
   "outputs": [],
   "source": [
    "# run 32\n",
    "cx1_2_small_32_json_filename = os.path.join(os.getenv(\"HOME\")+'/projects/syntist/processing', '20170707', '215138',\n",
    "                               '60000','cx1_2_small_syn_locations_sigma2_minpeakdist10.json')\n",
    "cx1_2_small_32_results = flyem_eval.evaluate_pr(flyem_eval.Tbar_Info(cx1_2_small_32_json_filename),\n",
    "                                                 flyem_eval.cx_synapse_groundtruth('2_small'),\n",
    "                                                 conf_thresholds=np.arange(0.00,0.98,0.02))"
   ]
  },
  {
   "cell_type": "code",
   "execution_count": null,
   "metadata": {
    "collapsed": true
   },
   "outputs": [],
   "source": [
    "# flyem\n",
    "cx1_2_results_flyem = flyem_eval.evaluate_pr(flyem_eval.Tbar_Info('fpl_unet_pred_cx1_2_baseline', 'emdata2:8000','cb7dc','roi_cx1_2'),\n",
    "                                             flyem_eval.cx_synapse_groundtruth('2'),\n",
    "                                             conf_thresholds=np.arange(0.7,0.98,0.02))"
   ]
  },
  {
   "cell_type": "code",
   "execution_count": null,
   "metadata": {
    "collapsed": true
   },
   "outputs": [],
   "source": []
  },
  {
   "cell_type": "code",
   "execution_count": 5,
   "metadata": {
    "collapsed": false
   },
   "outputs": [
    {
     "data": {
      "image/png": "[encoded data removed]",
      "text/plain": [
       "<matplotlib.figure.Figure at 0x7ff60df99690>"
      ]
     },
     "metadata": {},
     "output_type": "display_data"
    }
   ],
   "source": [
    "# compare flyem vs turagalab on validation set\n",
    "fig, ax = plt.subplots()\n",
    "ax.plot(cx1_2_small_29_results.rr, cx1_2_small_29_results.pp, 'b.-', label='24_1, cx1_2_small')\n",
    "ax.plot(cx1_2_small_31_results.rr, cx1_2_small_31_results.pp, 'r.-', label='24_2, cx1_2_small')\n",
    "ax.plot(cx1_2_small_32_results.rr, cx1_2_small_32_results.pp, 'g.-', label='24_3, cx1_2_small')\n",
    "# ax.plot(cx1_2_results_flyem.rr, cx1_2_results_flyem.pp, 'k.-', label='flyem, cx_1_2')\n",
    "legend = ax.legend(loc='lower left')\n",
    "plt.xlabel('recall')\n",
    "plt.ylabel('precision')\n",
    "plt.grid()\n",
    "plt.show()"
   ]
  },
  {
   "cell_type": "code",
   "execution_count": null,
   "metadata": {
    "collapsed": true
   },
   "outputs": [],
   "source": []
  }
 ],
 "metadata": {
  "kernelspec": {
   "display_name": "Python [conda env:flyem_eval]",
   "language": "python",
   "name": "conda-env-flyem_eval-py"
  },
  "language_info": {
   "codemirror_mode": {
    "name": "ipython",
    "version": 2
   },
   "file_extension": ".py",
   "mimetype": "text/x-python",
   "name": "python",
   "nbconvert_exporter": "python",
   "pygments_lexer": "ipython2",
   "version": "2.7.13"
  }
 },
 "nbformat": 4,
 "nbformat_minor": 2
}
